{
 "cells": [
  {
   "cell_type": "code",
   "execution_count": 41,
   "metadata": {},
   "outputs": [],
   "source": [
    "import os\n",
    "\n",
    "from PIL import Image\n",
    "import numpy as np\n",
    "\n",
    "from skimage.color import rgb2gray\n",
    "from skimage.metrics import structural_similarity as ssim\n",
    "\n",
    "import matplotlib.pyplot as plt"
   ]
  },
  {
   "cell_type": "code",
   "execution_count": 42,
   "metadata": {},
   "outputs": [],
   "source": [
    "orig_images_path = '/home/ilgiz/dev/boldbrain/data/imgs/sub01/test'\n",
    "gen_images_path = '/home/ilgiz/dev/boldbrain/data/imgs/sub01/test_gen'"
   ]
  },
  {
   "cell_type": "code",
   "execution_count": 43,
   "metadata": {},
   "outputs": [],
   "source": [
    "def get_corrcoef(im1_array, im2_array):\n",
    "    return np.corrcoef(im1_array.reshape(-1),\n",
    "                       im2_array.reshape(-1))[0][1]\n",
    "\n",
    "def get_ssim(im1, im2):\n",
    "    return ssim(rgb2gray(im1), rgb2gray(im2), gaussian_weights=True, sigma=1.5,\n",
    "         use_sample_covariance=False, data_range=1.0)\n",
    "\n"
   ]
  },
  {
   "cell_type": "code",
   "execution_count": 44,
   "metadata": {},
   "outputs": [
    {
     "name": "stdout",
     "output_type": "stream",
     "text": [
      "PixCorr: 0.10964461877869695\n",
      "SSIM: 0.21215060031260433\n"
     ]
    }
   ],
   "source": [
    "test_size = 982 // 2\n",
    "height = 425\n",
    "width = 425\n",
    "new_size = (height, width)\n",
    "\n",
    "\n",
    "corrsum = 0\n",
    "struct_sim = 0\n",
    "\n",
    "for i in range(test_size):\n",
    "    orig_numpy = np.load(os.path.join(orig_images_path, f'{i}.npy'))\n",
    "    orig_image = Image.fromarray(orig_numpy)\n",
    "    gen_image = Image.open(os.path.join(gen_images_path, f'{i}.png')).resize(\n",
    "        new_size, Image.BILINEAR)\n",
    "    gen_numpy = np.array(gen_image)\n",
    "\n",
    "    corrsum += get_corrcoef(orig_numpy, gen_numpy)\n",
    "    struct_sim += get_ssim(gen_image, orig_image)\n",
    "\n",
    "corrsum /= test_size\n",
    "struct_sim /= test_size\n",
    "\n",
    "print('PixCorr:', corrsum)\n",
    "print('SSIM:', struct_sim)"
   ]
  }
 ],
 "metadata": {
  "kernelspec": {
   "display_name": "venv",
   "language": "python",
   "name": "python3"
  },
  "language_info": {
   "codemirror_mode": {
    "name": "ipython",
    "version": 3
   },
   "file_extension": ".py",
   "mimetype": "text/x-python",
   "name": "python",
   "nbconvert_exporter": "python",
   "pygments_lexer": "ipython3",
   "version": "3.10.12"
  }
 },
 "nbformat": 4,
 "nbformat_minor": 2
}
