{
 "cells": [
  {
   "cell_type": "code",
   "execution_count": 3,
   "metadata": {},
   "outputs": [
    {
     "data": {
      "text/plain": [
       "'White cows eating grass under trees and the sky'"
      ]
     },
     "execution_count": 3,
     "metadata": {},
     "output_type": "execute_result"
    }
   ],
   "source": [
    "import numpy as np\n",
    "\n",
    "captions = np.load('/home/ilgiz/dev/boldbrain/data/processed_data/subj01/nsd_test_cap_sub1.npy')\n",
    "captions[0][0]"
   ]
  },
  {
   "cell_type": "code",
   "execution_count": 6,
   "metadata": {},
   "outputs": [
    {
     "name": "stdout",
     "output_type": "stream",
     "text": [
      "[-339.66665649 -236.66667175   13.66666698 ...  223.          -48.33333206\n",
      " -205.33332825]\n",
      "(15724,)\n"
     ]
    }
   ],
   "source": [
    "betas = np.load('/home/ilgiz/dev/boldbrain/data/processed_data/subj01/nsd_test_fmriavg_nsdgeneral_sub1.npy')\n",
    "print(betas[0])\n",
    "print(betas[0].shape)"
   ]
  }
 ],
 "metadata": {
  "kernelspec": {
   "display_name": "venv",
   "language": "python",
   "name": "python3"
  },
  "language_info": {
   "codemirror_mode": {
    "name": "ipython",
    "version": 3
   },
   "file_extension": ".py",
   "mimetype": "text/x-python",
   "name": "python",
   "nbconvert_exporter": "python",
   "pygments_lexer": "ipython3",
   "version": "3.10.12"
  }
 },
 "nbformat": 4,
 "nbformat_minor": 2
}
