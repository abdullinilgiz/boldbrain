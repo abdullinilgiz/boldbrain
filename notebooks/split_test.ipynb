{
 "cells": [
  {
   "cell_type": "code",
   "execution_count": 13,
   "metadata": {},
   "outputs": [],
   "source": [
    "import numpy as np"
   ]
  },
  {
   "cell_type": "code",
   "execution_count": 14,
   "metadata": {},
   "outputs": [
    {
     "name": "stdout",
     "output_type": "stream",
     "text": [
      "982\n",
      "982\n",
      "982\n"
     ]
    }
   ],
   "source": [
    "test_betas_path = '../data/processed_data/subj01/nsd_test_fmriavg_nsdgeneral_sub1.npy'\n",
    "test_caps_embed_path = '../data/caps_embeds/test_caps_embeds_sub1.npy'\n",
    "test_caps_embed_neg_path = '../data/caps_embeds/test_caps_embeds_negative_sub1.npy'\n",
    "\n",
    "betas = np.load(test_betas_path)\n",
    "caps_embed = np.load(test_caps_embed_path)\n",
    "caps_embed_neg = np.load(test_caps_embed_neg_path)\n",
    "print(len(betas))\n",
    "print(len(caps_embed))\n",
    "print(len(caps_embed_neg))"
   ]
  },
  {
   "cell_type": "code",
   "execution_count": 15,
   "metadata": {},
   "outputs": [],
   "source": [
    "n = len(betas) // 2 # halp of the test samples\n",
    "test_betas_split = betas[:n]\n",
    "val_betas_split = betas[n:]\n",
    "\n",
    "test_caps_embed_split = caps_embed[:n]\n",
    "val_caps_embed_split = caps_embed[n:]\n",
    "\n",
    "test_caps_embed_neg_split = caps_embed_neg[:n]\n",
    "val_caps_embed_neg_split = caps_embed_neg[n:]"
   ]
  },
  {
   "cell_type": "code",
   "execution_count": 16,
   "metadata": {},
   "outputs": [],
   "source": [
    "np.save('../data/caps_embeds/test_betas_split_sub1.npy',\n",
    "                             test_betas_split)\n",
    "np.save('../data/caps_embeds/val_betas_split_sub1.npy',\n",
    "                             val_betas_split)\n",
    "\n",
    "np.save('../data/caps_embeds/test_caps_embeds_split_sub1.npy',\n",
    "                             test_caps_embed_split)\n",
    "np.save('../data/caps_embeds/val_caps_embeds_split_sub1.npy',\n",
    "                             val_caps_embed_split)\n",
    "\n",
    "np.save('../data/caps_embeds/test_caps_embeds_neg_split_sub1.npy',\n",
    "                             test_caps_embed_neg_split)\n",
    "np.save('../data/caps_embeds/val_caps_embeds_neg_split_sub1.npy',\n",
    "                             val_caps_embed_neg_split)"
   ]
  }
 ],
 "metadata": {
  "kernelspec": {
   "display_name": "venv",
   "language": "python",
   "name": "python3"
  },
  "language_info": {
   "codemirror_mode": {
    "name": "ipython",
    "version": 3
   },
   "file_extension": ".py",
   "mimetype": "text/x-python",
   "name": "python",
   "nbconvert_exporter": "python",
   "pygments_lexer": "ipython3",
   "version": "3.10.12"
  }
 },
 "nbformat": 4,
 "nbformat_minor": 2
}
