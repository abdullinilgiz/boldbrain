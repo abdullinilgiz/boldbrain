{
 "cells": [
  {
   "cell_type": "code",
   "execution_count": 2,
   "metadata": {},
   "outputs": [],
   "source": [
    "import os\n",
    "import numpy as np\n",
    "import cv2\n",
    "import matplotlib.pyplot as plt"
   ]
  },
  {
   "cell_type": "code",
   "execution_count": 3,
   "metadata": {},
   "outputs": [
    {
     "data": {
      "text/plain": [
       "True"
      ]
     },
     "execution_count": 3,
     "metadata": {},
     "output_type": "execute_result"
    }
   ],
   "source": [
    "\n",
    "def load_images_from_folder(folder):\n",
    "    images = []\n",
    "    for filename in os.listdir(folder):\n",
    "        img = cv2.imread(os.path.join(folder, filename))\n",
    "        images.append(img)\n",
    "    return images\n",
    "\n",
    "def concatenate_images_vertically(images_list):\n",
    "    img_top = images_list[0]\n",
    "    for img_bot in images_list[1:]:\n",
    "        img_top = cv2.vconcat([img_top, img_bot])\n",
    "    return img_top\n",
    "\n",
    "def save_images_to_folder(images_dict, folder):\n",
    "    if not os.path.exists(folder):\n",
    "        os.makedirs(folder)\n",
    "    for name, img in images_dict.items():\n",
    "        cv2.imwrite(os.path.join(folder, f'{name}_concatenated.png'), img)\n",
    "\n",
    "def display_images(images_list):\n",
    "    for img in images_list:\n",
    "        plt.imshow(cv2.cvtColor(img, cv2.COLOR_BGR2RGB))\n",
    "        # plt.title('concat')\n",
    "        plt.axis('off')\n",
    "        plt.show()\n",
    "\n",
    "# Path to the folder containing the images\n",
    "input_folder = '/home/ilgiz/dev/boldbrain/data/imgs/to_concat'\n",
    "output_folder = '/home/ilgiz/dev/boldbrain/data/imgs/concatted'\n",
    "\n",
    "# Load images\n",
    "images = load_images_from_folder(input_folder)\n",
    "# print(images_dict)\n",
    "# Concatenate images vertically\n",
    "concatenated_image = concatenate_images_vertically(images)\n",
    "\n",
    "# Save concatenated images to a new folder\n",
    "# save_images_to_folder(concatenated_images, output_folder)\n",
    "\n",
    "# Display concatenated images\n",
    "# plt.imshow(concatenated_image)\n",
    "cv2.imwrite('/home/ilgiz/dev/boldbrain/data/imgs/concatted/fails.png',\n",
    "            concatenated_image)\n"
   ]
  }
 ],
 "metadata": {
  "kernelspec": {
   "display_name": "venv",
   "language": "python",
   "name": "python3"
  },
  "language_info": {
   "codemirror_mode": {
    "name": "ipython",
    "version": 3
   },
   "file_extension": ".py",
   "mimetype": "text/x-python",
   "name": "python",
   "nbconvert_exporter": "python",
   "pygments_lexer": "ipython3",
   "version": "3.10.12"
  }
 },
 "nbformat": 4,
 "nbformat_minor": 2
}
