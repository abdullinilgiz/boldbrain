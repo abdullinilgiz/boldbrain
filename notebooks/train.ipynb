{
 "cells": [
  {
   "cell_type": "code",
   "execution_count": 1,
   "metadata": {},
   "outputs": [],
   "source": [
    "import numpy as np\n",
    "import torch\n",
    "from torch import nn\n",
    "import random\n",
    "\n",
    "from torch.utils.data import Dataset, DataLoader\n",
    "\n",
    "from tqdm import tqdm\n",
    "\n",
    "from torch.utils.tensorboard import SummaryWriter\n",
    "\n",
    "import os\n",
    "\n",
    "from datetime import datetime"
   ]
  },
  {
   "cell_type": "code",
   "execution_count": 2,
   "metadata": {},
   "outputs": [],
   "source": [
    "train_betas_path = '../data/processed_data/subj01/nsd_train_fmriavg_nsdgeneral_sub1.npy'\n",
    "train_caps_embed_path = '../data/caps_embeds/train_caps_embeds_sub1.npy'\n",
    "train_caps_embed_neg_path = '../data/caps_embeds/train_caps_embeds_negative_sub1.npy'\n",
    "\n",
    "train_betas = np.load(train_betas_path)\n",
    "# train_caps_embed = np.load(train_caps_embed_path)\n",
    "# train_caps_embed_neg = np.load(train_caps_embed_neg_path)"
   ]
  },
  {
   "cell_type": "code",
   "execution_count": 3,
   "metadata": {},
   "outputs": [
    {
     "data": {
      "text/plain": [
       "(8859, 15724)"
      ]
     },
     "execution_count": 3,
     "metadata": {},
     "output_type": "execute_result"
    }
   ],
   "source": [
    "train_betas.shape"
   ]
  },
  {
   "cell_type": "code",
   "execution_count": 4,
   "metadata": {},
   "outputs": [],
   "source": [
    "test_betas_path = '../data/processed_data/subj01/nsd_test_fmriavg_nsdgeneral_sub1.npy'\n",
    "test_caps_embed_path = '../data/caps_embeds/test_caps_embeds_sub1.npy'\n",
    "test_caps_embed_neg_path = '../data/caps_embeds/test_caps_embeds_negative_sub1.npy'\n",
    "\n",
    "# test_betas = np.load(test_betas_path)\n",
    "# test_caps_embed = np.load(test_caps_embed_path)\n",
    "# test_caps_embed_neg = np.load(test_caps_embed_neg_path)"
   ]
  },
  {
   "cell_type": "code",
   "execution_count": 5,
   "metadata": {},
   "outputs": [
    {
     "name": "stdout",
     "output_type": "stream",
     "text": [
      "beta      torch.Size([64, 15724])\n",
      "embed     torch.Size([64, 1280])\n",
      "neg_embed torch.Size([64, 1280])\n"
     ]
    }
   ],
   "source": [
    "class CustomDataset(Dataset):\n",
    "    def __init__(self, betas_path, embeds_path, neg_embeds_path):\n",
    "        self.betas = torch.from_numpy(np.load(betas_path)).float().cuda()\n",
    "        self.embeds = torch.from_numpy(\n",
    "            np.squeeze(np.load(embeds_path))\n",
    "            ).float().cuda()\n",
    "        self.embeds_neg = torch.from_numpy(\n",
    "            np.squeeze(np.load(neg_embeds_path))\n",
    "            ).float().cuda()\n",
    "\n",
    "    def __len__(self):\n",
    "        return len(self.betas)\n",
    "\n",
    "    def __getitem__(self, index):\n",
    "        return self.betas[index], self.embeds[index], self.embeds_neg[index]\n",
    "\n",
    "\n",
    "class CustomDataLoader:\n",
    "    def __init__(self, dataset, batch_size):\n",
    "        self.data_loader = DataLoader(dataset, batch_size=batch_size, shuffle=True)\n",
    "\n",
    "    def __iter__(self):\n",
    "        return iter(self.data_loader)\n",
    "\n",
    "    def __len__(self):\n",
    "        return len(self.data_loader)\n",
    "\n",
    "batch_size = 64\n",
    "\n",
    "train_dataset = CustomDataset(train_betas_path,\n",
    "                        train_caps_embed_path,\n",
    "                        train_caps_embed_neg_path)\n",
    "train_data_loader = CustomDataLoader(train_dataset, batch_size)\n",
    "\n",
    "test_dataset = CustomDataset(test_betas_path,\n",
    "                              test_caps_embed_path,\n",
    "                              test_caps_embed_neg_path)\n",
    "test_data_loader = CustomDataLoader(test_dataset, batch_size)\n",
    "\n",
    "for beta, embed, neg_embed in train_data_loader:\n",
    "    print(f\"beta      {beta.shape}\")\n",
    "    print(f\"embed     {embed.shape}\")\n",
    "    print(f\"neg_embed {neg_embed.shape}\")\n",
    "    break"
   ]
  },
  {
   "cell_type": "code",
   "execution_count": 6,
   "metadata": {},
   "outputs": [
    {
     "name": "stdout",
     "output_type": "stream",
     "text": [
      "input_dim: 15724\n",
      "output_dim: 1280\n"
     ]
    }
   ],
   "source": [
    "input_dim = 15724\n",
    "print('input_dim:', input_dim)\n",
    "ouput_dim = 1280\n",
    "print('output_dim:', ouput_dim)"
   ]
  },
  {
   "cell_type": "code",
   "execution_count": 7,
   "metadata": {},
   "outputs": [],
   "source": [
    "class RegressionModel(nn.Module):\n",
    "    def __init__(self, input_channels, output_channels):\n",
    "        super().__init__()\n",
    "        self.linear_regression = nn.Linear(in_features=input_channels,\n",
    "                               out_features=output_channels)\n",
    "        self.layer1 = 2**10 * 4\n",
    "        self.layer2 = 2**10 * 5\n",
    "\n",
    "        self.mlp = nn.Sequential(\n",
    "            nn.Linear(in_features=input_channels, \n",
    "                      out_features=self.layer1),\n",
    "            nn.LeakyReLU(0.05, inplace=True),    \n",
    "            nn.Linear(in_features=self.layer1, \n",
    "                      out_features=output_channels),\n",
    "        )\n",
    "\n",
    "\n",
    "    def forward(self, x):\n",
    "        return self.mlp(x)\n",
    "\n",
    "model_embed = RegressionModel(input_dim, ouput_dim).cuda()\n",
    "model_neg = RegressionModel(input_dim, ouput_dim).cuda()"
   ]
  },
  {
   "cell_type": "code",
   "execution_count": 8,
   "metadata": {},
   "outputs": [
    {
     "data": {
      "text/plain": [
       "torch.float32"
      ]
     },
     "execution_count": 8,
     "metadata": {},
     "output_type": "execute_result"
    }
   ],
   "source": [
    "next(model_embed.parameters()).dtype"
   ]
  },
  {
   "cell_type": "code",
   "execution_count": 9,
   "metadata": {},
   "outputs": [],
   "source": [
    "import torch.nn.functional as F\n",
    "\n",
    "class CosineSimilarityLoss(nn.Module):\n",
    "    def __init__(self):\n",
    "        super(CosineSimilarityLoss, self).__init__()\n",
    "\n",
    "    def forward(self, y_true, y_pred):\n",
    "        cosine_sim = F.cosine_similarity(y_true, y_pred, dim=1)\n",
    "        loss = 1 - cosine_sim.mean()\n",
    "        return loss"
   ]
  },
  {
   "cell_type": "code",
   "execution_count": 10,
   "metadata": {},
   "outputs": [
    {
     "name": "stderr",
     "output_type": "stream",
     "text": [
      "/home/ilgiz/dev/boldbrain/venv/lib/python3.10/site-packages/tqdm/auto.py:21: TqdmWarning: IProgress not found. Please update jupyter and ipywidgets. See https://ipywidgets.readthedocs.io/en/stable/user_install.html\n",
      "  from .autonotebook import tqdm as notebook_tqdm\n"
     ]
    }
   ],
   "source": [
    "cos_loss = CosineSimilarityLoss()\n",
    "mse_loss = nn.MSELoss(reduction='mean')\n",
    "optim_embed = torch.optim.Adam(params=model_embed.parameters(), lr=0.0001, weight_decay=1)\n",
    "optim_neg = torch.optim.Adam(params=model_neg.parameters(), lr=0.0001, weight_decay=1)"
   ]
  },
  {
   "cell_type": "code",
   "execution_count": 11,
   "metadata": {},
   "outputs": [],
   "source": [
    "run_name = 'mlp_only_cos' #+ datetime.now().strftime(\"%Y-%m-%d_%H:%M\")\n",
    "writer = SummaryWriter(os.path.join('runs', run_name))"
   ]
  },
  {
   "cell_type": "code",
   "execution_count": 12,
   "metadata": {},
   "outputs": [
    {
     "name": "stderr",
     "output_type": "stream",
     "text": [
      "  0%|          | 0/100 [00:00<?, ?it/s]"
     ]
    },
    {
     "name": "stdout",
     "output_type": "stream",
     "text": [
      "Model saved with loss: 52.54768180847168\n"
     ]
    },
    {
     "name": "stderr",
     "output_type": "stream",
     "text": [
      "  1%|          | 1/100 [00:12<20:40, 12.53s/it]"
     ]
    },
    {
     "name": "stdout",
     "output_type": "stream",
     "text": [
      "Model saved with loss: 43.72822570800781\n"
     ]
    },
    {
     "name": "stderr",
     "output_type": "stream",
     "text": [
      "  2%|▏         | 2/100 [00:25<20:38, 12.64s/it]"
     ]
    },
    {
     "name": "stdout",
     "output_type": "stream",
     "text": [
      "Model saved with loss: 42.85312461853027\n"
     ]
    },
    {
     "name": "stderr",
     "output_type": "stream",
     "text": [
      "  3%|▎         | 3/100 [00:37<20:27, 12.65s/it]"
     ]
    },
    {
     "name": "stdout",
     "output_type": "stream",
     "text": [
      "Model saved with loss: 34.55750846862793\n"
     ]
    },
    {
     "name": "stderr",
     "output_type": "stream",
     "text": [
      "  4%|▍         | 4/100 [00:50<20:13, 12.65s/it]"
     ]
    },
    {
     "name": "stdout",
     "output_type": "stream",
     "text": [
      "Model saved with loss: 32.06180763244629\n"
     ]
    },
    {
     "name": "stderr",
     "output_type": "stream",
     "text": [
      "  5%|▌         | 5/100 [01:03<20:01, 12.64s/it]"
     ]
    },
    {
     "name": "stdout",
     "output_type": "stream",
     "text": [
      "Model saved with loss: 25.752647399902344\n"
     ]
    },
    {
     "name": "stderr",
     "output_type": "stream",
     "text": [
      "  6%|▌         | 6/100 [01:15<19:48, 12.64s/it]"
     ]
    },
    {
     "name": "stdout",
     "output_type": "stream",
     "text": [
      "Model saved with loss: 23.92900848388672\n"
     ]
    },
    {
     "name": "stderr",
     "output_type": "stream",
     "text": [
      "  7%|▋         | 7/100 [01:28<19:40, 12.70s/it]"
     ]
    },
    {
     "name": "stdout",
     "output_type": "stream",
     "text": [
      "Model saved with loss: 23.219496726989746\n"
     ]
    },
    {
     "name": "stderr",
     "output_type": "stream",
     "text": [
      "  8%|▊         | 8/100 [01:41<19:26, 12.68s/it]"
     ]
    },
    {
     "name": "stdout",
     "output_type": "stream",
     "text": [
      "Model saved with loss: 19.127812385559082\n"
     ]
    },
    {
     "name": "stderr",
     "output_type": "stream",
     "text": [
      "  9%|▉         | 9/100 [01:53<19:11, 12.66s/it]"
     ]
    },
    {
     "name": "stdout",
     "output_type": "stream",
     "text": [
      "Model saved with loss: 16.084310054779053\n"
     ]
    },
    {
     "name": "stderr",
     "output_type": "stream",
     "text": [
      " 11%|█         | 11/100 [02:17<18:02, 12.16s/it]"
     ]
    },
    {
     "name": "stdout",
     "output_type": "stream",
     "text": [
      "Model saved with loss: 15.448028087615967\n"
     ]
    },
    {
     "name": "stderr",
     "output_type": "stream",
     "text": [
      " 12%|█▏        | 12/100 [02:30<18:03, 12.31s/it]"
     ]
    },
    {
     "name": "stdout",
     "output_type": "stream",
     "text": [
      "Model saved with loss: 14.445944786071777\n"
     ]
    },
    {
     "name": "stderr",
     "output_type": "stream",
     "text": [
      " 13%|█▎        | 13/100 [02:42<17:59, 12.41s/it]"
     ]
    },
    {
     "name": "stdout",
     "output_type": "stream",
     "text": [
      "Model saved with loss: 11.880154132843018\n"
     ]
    },
    {
     "name": "stderr",
     "output_type": "stream",
     "text": [
      " 14%|█▍        | 14/100 [02:55<17:53, 12.48s/it]"
     ]
    },
    {
     "name": "stdout",
     "output_type": "stream",
     "text": [
      "Model saved with loss: 11.83185863494873\n"
     ]
    },
    {
     "name": "stderr",
     "output_type": "stream",
     "text": [
      " 15%|█▌        | 15/100 [03:08<17:45, 12.53s/it]"
     ]
    },
    {
     "name": "stdout",
     "output_type": "stream",
     "text": [
      "Model saved with loss: 10.697999954223633\n"
     ]
    },
    {
     "name": "stderr",
     "output_type": "stream",
     "text": [
      " 16%|█▌        | 16/100 [03:20<17:34, 12.55s/it]"
     ]
    },
    {
     "name": "stdout",
     "output_type": "stream",
     "text": [
      "Model saved with loss: 9.999814510345459\n"
     ]
    },
    {
     "name": "stderr",
     "output_type": "stream",
     "text": [
      " 17%|█▋        | 17/100 [03:33<17:24, 12.58s/it]"
     ]
    },
    {
     "name": "stdout",
     "output_type": "stream",
     "text": [
      "Model saved with loss: 9.513706684112549\n"
     ]
    },
    {
     "name": "stderr",
     "output_type": "stream",
     "text": [
      " 18%|█▊        | 18/100 [03:46<17:12, 12.59s/it]"
     ]
    },
    {
     "name": "stdout",
     "output_type": "stream",
     "text": [
      "Model saved with loss: 8.96387767791748\n"
     ]
    },
    {
     "name": "stderr",
     "output_type": "stream",
     "text": [
      " 20%|██        | 20/100 [04:09<16:11, 12.15s/it]"
     ]
    },
    {
     "name": "stdout",
     "output_type": "stream",
     "text": [
      "Model saved with loss: 7.708811044692993\n"
     ]
    },
    {
     "name": "stderr",
     "output_type": "stream",
     "text": [
      " 21%|██        | 21/100 [04:22<16:12, 12.31s/it]"
     ]
    },
    {
     "name": "stdout",
     "output_type": "stream",
     "text": [
      "Model saved with loss: 7.457350015640259\n"
     ]
    },
    {
     "name": "stderr",
     "output_type": "stream",
     "text": [
      " 22%|██▏       | 22/100 [04:35<16:07, 12.41s/it]"
     ]
    },
    {
     "name": "stdout",
     "output_type": "stream",
     "text": [
      "Model saved with loss: 6.189404487609863\n"
     ]
    },
    {
     "name": "stderr",
     "output_type": "stream",
     "text": [
      " 24%|██▍       | 24/100 [04:58<15:16, 12.06s/it]"
     ]
    },
    {
     "name": "stdout",
     "output_type": "stream",
     "text": [
      "Model saved with loss: 5.70184063911438\n"
     ]
    },
    {
     "name": "stderr",
     "output_type": "stream",
     "text": [
      " 26%|██▌       | 26/100 [05:22<14:40, 11.89s/it]"
     ]
    },
    {
     "name": "stdout",
     "output_type": "stream",
     "text": [
      "Model saved with loss: 5.026899814605713\n"
     ]
    },
    {
     "name": "stderr",
     "output_type": "stream",
     "text": [
      " 27%|██▋       | 27/100 [05:35<14:45, 12.13s/it]"
     ]
    },
    {
     "name": "stdout",
     "output_type": "stream",
     "text": [
      "Model saved with loss: 4.467642545700073\n"
     ]
    },
    {
     "name": "stderr",
     "output_type": "stream",
     "text": [
      " 29%|██▉       | 29/100 [05:58<14:05, 11.92s/it]"
     ]
    },
    {
     "name": "stdout",
     "output_type": "stream",
     "text": [
      "Model saved with loss: 4.210372686386108\n"
     ]
    },
    {
     "name": "stderr",
     "output_type": "stream",
     "text": [
      " 31%|███       | 31/100 [06:22<13:34, 11.81s/it]"
     ]
    },
    {
     "name": "stdout",
     "output_type": "stream",
     "text": [
      "Model saved with loss: 3.5648547410964966\n"
     ]
    },
    {
     "name": "stderr",
     "output_type": "stream",
     "text": [
      " 33%|███▎      | 33/100 [06:46<13:08, 11.77s/it]"
     ]
    },
    {
     "name": "stdout",
     "output_type": "stream",
     "text": [
      "Model saved with loss: 3.2302368879318237\n"
     ]
    },
    {
     "name": "stderr",
     "output_type": "stream",
     "text": [
      " 35%|███▌      | 35/100 [07:10<12:43, 11.75s/it]"
     ]
    },
    {
     "name": "stdout",
     "output_type": "stream",
     "text": [
      "Model saved with loss: 2.9015170335769653\n"
     ]
    },
    {
     "name": "stderr",
     "output_type": "stream",
     "text": [
      " 37%|███▋      | 37/100 [07:33<12:19, 11.74s/it]"
     ]
    },
    {
     "name": "stdout",
     "output_type": "stream",
     "text": [
      "Model saved with loss: 2.5104525089263916\n"
     ]
    },
    {
     "name": "stderr",
     "output_type": "stream",
     "text": [
      " 38%|███▊      | 38/100 [07:46<12:24, 12.01s/it]"
     ]
    },
    {
     "name": "stdout",
     "output_type": "stream",
     "text": [
      "Model saved with loss: 2.403701663017273\n"
     ]
    },
    {
     "name": "stderr",
     "output_type": "stream",
     "text": [
      " 39%|███▉      | 39/100 [07:59<12:24, 12.20s/it]"
     ]
    },
    {
     "name": "stdout",
     "output_type": "stream",
     "text": [
      "Model saved with loss: 2.2716176509857178\n"
     ]
    },
    {
     "name": "stderr",
     "output_type": "stream",
     "text": [
      " 40%|████      | 40/100 [08:11<12:20, 12.35s/it]"
     ]
    },
    {
     "name": "stdout",
     "output_type": "stream",
     "text": [
      "Model saved with loss: 2.181091547012329\n"
     ]
    },
    {
     "name": "stderr",
     "output_type": "stream",
     "text": [
      " 41%|████      | 41/100 [08:24<12:14, 12.46s/it]"
     ]
    },
    {
     "name": "stdout",
     "output_type": "stream",
     "text": [
      "Model saved with loss: 2.1636529564857483\n"
     ]
    },
    {
     "name": "stderr",
     "output_type": "stream",
     "text": [
      " 42%|████▏     | 42/100 [08:37<12:05, 12.51s/it]"
     ]
    },
    {
     "name": "stdout",
     "output_type": "stream",
     "text": [
      "Model saved with loss: 2.0718968510627747\n"
     ]
    },
    {
     "name": "stderr",
     "output_type": "stream",
     "text": [
      " 43%|████▎     | 43/100 [08:49<11:55, 12.56s/it]"
     ]
    },
    {
     "name": "stdout",
     "output_type": "stream",
     "text": [
      "Model saved with loss: 1.9330343008041382\n"
     ]
    },
    {
     "name": "stderr",
     "output_type": "stream",
     "text": [
      " 44%|████▍     | 44/100 [09:02<11:45, 12.60s/it]"
     ]
    },
    {
     "name": "stdout",
     "output_type": "stream",
     "text": [
      "Model saved with loss: 1.807508945465088\n"
     ]
    },
    {
     "name": "stderr",
     "output_type": "stream",
     "text": [
      " 46%|████▌     | 46/100 [09:26<10:56, 12.16s/it]"
     ]
    },
    {
     "name": "stdout",
     "output_type": "stream",
     "text": [
      "Model saved with loss: 1.6663991212844849\n"
     ]
    },
    {
     "name": "stderr",
     "output_type": "stream",
     "text": [
      " 47%|████▋     | 47/100 [09:38<10:51, 12.30s/it]"
     ]
    },
    {
     "name": "stdout",
     "output_type": "stream",
     "text": [
      "Model saved with loss: 1.608429491519928\n"
     ]
    },
    {
     "name": "stderr",
     "output_type": "stream",
     "text": [
      " 48%|████▊     | 48/100 [09:51<10:45, 12.41s/it]"
     ]
    },
    {
     "name": "stdout",
     "output_type": "stream",
     "text": [
      "Model saved with loss: 1.5840855836868286\n"
     ]
    },
    {
     "name": "stderr",
     "output_type": "stream",
     "text": [
      " 49%|████▉     | 49/100 [10:04<10:36, 12.48s/it]"
     ]
    },
    {
     "name": "stdout",
     "output_type": "stream",
     "text": [
      "Model saved with loss: 1.4651144742965698\n"
     ]
    },
    {
     "name": "stderr",
     "output_type": "stream",
     "text": [
      " 52%|█████▏    | 52/100 [10:39<09:25, 11.78s/it]"
     ]
    },
    {
     "name": "stdout",
     "output_type": "stream",
     "text": [
      "Model saved with loss: 1.4021382927894592\n"
     ]
    },
    {
     "name": "stderr",
     "output_type": "stream",
     "text": [
      " 53%|█████▎    | 53/100 [10:51<09:25, 12.04s/it]"
     ]
    },
    {
     "name": "stdout",
     "output_type": "stream",
     "text": [
      "Model saved with loss: 1.3329032063484192\n"
     ]
    },
    {
     "name": "stderr",
     "output_type": "stream",
     "text": [
      " 56%|█████▌    | 56/100 [11:26<08:31, 11.63s/it]"
     ]
    },
    {
     "name": "stdout",
     "output_type": "stream",
     "text": [
      "Model saved with loss: 1.2881409227848053\n"
     ]
    },
    {
     "name": "stderr",
     "output_type": "stream",
     "text": [
      " 62%|██████▏   | 62/100 [12:34<07:06, 11.21s/it]"
     ]
    },
    {
     "name": "stdout",
     "output_type": "stream",
     "text": [
      "Model saved with loss: 1.2736429870128632\n"
     ]
    },
    {
     "name": "stderr",
     "output_type": "stream",
     "text": [
      " 63%|██████▎   | 63/100 [12:47<07:11, 11.66s/it]"
     ]
    },
    {
     "name": "stdout",
     "output_type": "stream",
     "text": [
      "Model saved with loss: 1.2558721601963043\n"
     ]
    },
    {
     "name": "stderr",
     "output_type": "stream",
     "text": [
      " 77%|███████▋  | 77/100 [15:28<04:37, 12.06s/it]\n"
     ]
    },
    {
     "ename": "KeyboardInterrupt",
     "evalue": "",
     "output_type": "error",
     "traceback": [
      "\u001b[0;31m---------------------------------------------------------------------------\u001b[0m",
      "\u001b[0;31mKeyboardInterrupt\u001b[0m                         Traceback (most recent call last)",
      "Cell \u001b[0;32mIn[12], line 30\u001b[0m\n\u001b[1;32m     26\u001b[0m     loss_neg\u001b[38;5;241m.\u001b[39mbackward()\n\u001b[1;32m     27\u001b[0m     optim_neg\u001b[38;5;241m.\u001b[39mstep()\n\u001b[1;32m     29\u001b[0m     writer\u001b[38;5;241m.\u001b[39madd_scalars(\u001b[38;5;124m'\u001b[39m\u001b[38;5;124mtrain/losses\u001b[39m\u001b[38;5;124m'\u001b[39m, {\n\u001b[0;32m---> 30\u001b[0m         \u001b[38;5;124m'\u001b[39m\u001b[38;5;124membed\u001b[39m\u001b[38;5;124m'\u001b[39m: \u001b[43mloss_embed\u001b[49m\u001b[38;5;241;43m.\u001b[39;49m\u001b[43mitem\u001b[49m\u001b[43m(\u001b[49m\u001b[43m)\u001b[49m,\n\u001b[1;32m     31\u001b[0m         \u001b[38;5;124m'\u001b[39m\u001b[38;5;124mnegat\u001b[39m\u001b[38;5;124m'\u001b[39m: loss_neg\u001b[38;5;241m.\u001b[39mitem(),\n\u001b[1;32m     32\u001b[0m     }, iter_index)\n\u001b[1;32m     34\u001b[0m test_loss \u001b[38;5;241m=\u001b[39m \u001b[38;5;241m0\u001b[39m\n\u001b[1;32m     36\u001b[0m model_embed\u001b[38;5;241m.\u001b[39meval()\n",
      "\u001b[0;31mKeyboardInterrupt\u001b[0m: "
     ]
    }
   ],
   "source": [
    "import torch\n",
    "from tqdm import tqdm\n",
    "\n",
    "num_epochs = 100\n",
    "iter_index = 0\n",
    "min_test_loss = 1e15\n",
    "best_model_path = f'../models/{run_name}.pth'\n",
    "test_iter_index = 0\n",
    "\n",
    "for epoch in tqdm(range(num_epochs)):\n",
    "    model_embed.train()\n",
    "    model_neg.train()\n",
    "\n",
    "    for betas, embeds, neg_embeds in train_data_loader:\n",
    "        iter_index += 1\n",
    "        pred_embeds = model_embed(betas)\n",
    "        pred_neg_embeds = model_neg(betas)\n",
    "\n",
    "        loss_embed = mse_loss(pred_embeds, embeds)\n",
    "        optim_embed.zero_grad()\n",
    "        loss_embed.backward()\n",
    "        optim_embed.step()\n",
    "        \n",
    "        loss_neg = mse_loss(pred_neg_embeds, neg_embeds)\n",
    "        optim_neg.zero_grad()\n",
    "        loss_neg.backward()\n",
    "        optim_neg.step()\n",
    "\n",
    "        writer.add_scalars('train/losses', {\n",
    "            'embed': loss_embed.item(),\n",
    "            'negat': loss_neg.item(),\n",
    "        }, iter_index)\n",
    "\n",
    "    test_loss = 0\n",
    "    \n",
    "    model_embed.eval()\n",
    "    model_neg.eval()\n",
    "\n",
    "    # if epoch % 10 == 0:\n",
    "    with torch.inference_mode():\n",
    "        n_batches = 0\n",
    "        for betas, embeds, neg_embeds in test_data_loader:\n",
    "            test_iter_index += 1\n",
    "            pred_embeds = model_embed(betas)\n",
    "            pred_neg_embeds = model_neg(betas)\n",
    "\n",
    "            # loss_embed = mse_loss(pred_embeds, embeds)\n",
    "            # loss_neg = mse_loss(pred_neg_embeds, neg_embeds)\n",
    "\n",
    "            cos_embed = cos_loss(pred_embeds, embeds)\n",
    "            cos_neg = cos_loss(pred_neg_embeds, neg_embeds)\n",
    "\n",
    "            writer.add_scalars('test/losses', {\n",
    "                'embed': loss_embed.item(),\n",
    "                'negat': loss_neg.item(),\n",
    "            }, test_iter_index)\n",
    "\n",
    "            writer.add_scalars('test/cos_sim', {\n",
    "                'cos_embed': cos_embed.item(),\n",
    "                'cos_neg': cos_neg.item(),\n",
    "            }, test_iter_index)\n",
    "\n",
    "            n_batches += 1\n",
    "            test_loss += loss_embed.item() + loss_neg.item()\n",
    "    test_loss /= n_batches\n",
    "    if test_loss < min_test_loss:\n",
    "        min_test_loss = test_loss\n",
    "        print(f'Model saved with loss: {test_loss}')\n",
    "        torch.save({\n",
    "            'model_embed_state_dict': model_embed.state_dict(),\n",
    "            'model_neg_state_dict': model_neg.state_dict(),\n",
    "            'epoch': epoch,\n",
    "            'min_test_loss': min_test_loss,\n",
    "        }, best_model_path)\n"
   ]
  }
 ],
 "metadata": {
  "kernelspec": {
   "display_name": "venv",
   "language": "python",
   "name": "python3"
  },
  "language_info": {
   "codemirror_mode": {
    "name": "ipython",
    "version": 3
   },
   "file_extension": ".py",
   "mimetype": "text/x-python",
   "name": "python",
   "nbconvert_exporter": "python",
   "pygments_lexer": "ipython3",
   "version": "3.10.12"
  }
 },
 "nbformat": 4,
 "nbformat_minor": 2
}
