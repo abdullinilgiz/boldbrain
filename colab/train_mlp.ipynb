{
  "cells": [
    {
      "cell_type": "code",
      "source": [
        "from google.colab import drive\n",
        "drive.mount('/content/drive')"
      ],
      "metadata": {
        "colab": {
          "base_uri": "https://localhost:8080/"
        },
        "id": "biqV0Pjwa8bS",
        "outputId": "338743b2-df65-44d1-fb42-bef74cb4a8e9"
      },
      "execution_count": null,
      "outputs": [
        {
          "output_type": "stream",
          "name": "stdout",
          "text": [
            "Drive already mounted at /content/drive; to attempt to forcibly remount, call drive.mount(\"/content/drive\", force_remount=True).\n"
          ]
        }
      ]
    },
    {
      "cell_type": "code",
      "execution_count": null,
      "metadata": {
        "id": "l3NxgI6kZ3oR"
      },
      "outputs": [],
      "source": [
        "import numpy as np\n",
        "import torch\n",
        "from torch import nn\n",
        "import random\n",
        "\n",
        "from torch.utils.data import Dataset, DataLoader\n",
        "\n",
        "from tqdm import tqdm\n",
        "\n",
        "from torch.utils.tensorboard import SummaryWriter\n",
        "\n",
        "import os\n",
        "\n",
        "from datetime import datetime"
      ]
    },
    {
      "cell_type": "code",
      "source": [
        "data_path = '/content/drive/MyDrive/data/'"
      ],
      "metadata": {
        "id": "-4VZtj0bbO_5"
      },
      "execution_count": null,
      "outputs": []
    },
    {
      "cell_type": "code",
      "execution_count": null,
      "metadata": {
        "id": "JxYx2vy6Z3oT"
      },
      "outputs": [],
      "source": [
        "train_betas_path = data_path + 'nsd_train_fmriavg_nsdgeneral_sub1.npy'\n",
        "train_caps_embed_path = data_path + 'train_caps_embeds_sub1.npy'\n",
        "train_caps_embed_neg_path = data_path + 'train_caps_embeds_negative_sub1.npy'\n",
        "\n",
        "# train_betas = np.load(train_betas_path)\n",
        "# train_caps_embed = np.load(train_caps_embed_path)\n",
        "# train_caps_embed_neg = np.load(train_caps_embed_neg_path)"
      ]
    },
    {
      "cell_type": "code",
      "execution_count": null,
      "metadata": {
        "id": "kKNpOobdZ3oU"
      },
      "outputs": [],
      "source": [
        "test_betas_path = data_path + 'test_betas_split_sub1.npy'\n",
        "test_caps_embed_path = data_path + 'test_caps_embeds_split_sub1.npy'\n",
        "test_caps_embed_neg_path = data_path + 'test_caps_embeds_negative_split_sub1.npy'\n",
        "\n",
        "# test_betas = np.load(test_betas_path)\n",
        "# test_caps_embed = np.load(test_caps_embed_path)\n",
        "# test_caps_embed_neg = np.load(test_caps_embed_neg_path)"
      ]
    },
    {
      "cell_type": "code",
      "execution_count": null,
      "metadata": {
        "id": "XU7_GM_SZ3oU"
      },
      "outputs": [],
      "source": [
        "val_betas_path = data_path + 'val_betas_split_sub1.npy'\n",
        "val_caps_embed_path = data_path + 'val_caps_embeds_split_sub1.npy'\n",
        "val_caps_embed_neg_path = data_path + 'val_caps_embeds_split_negative_sub1.npy'\n",
        "\n",
        "# test_betas = np.load(test_betas_path)\n",
        "# test_caps_embed = np.load(test_caps_embed_path)\n",
        "# test_caps_embed_neg = np.load(test_caps_embed_neg_path)"
      ]
    },
    {
      "cell_type": "code",
      "execution_count": null,
      "metadata": {
        "colab": {
          "base_uri": "https://localhost:8080/"
        },
        "id": "QbLL1QGHZ3oU",
        "outputId": "767a26dd-f862-4130-88c4-0d5c116cdfaf"
      },
      "outputs": [
        {
          "output_type": "stream",
          "name": "stdout",
          "text": [
            "beta      torch.Size([64, 15724])\n",
            "embed     torch.Size([64, 1280])\n"
          ]
        }
      ],
      "source": [
        "class CustomDataset(Dataset):\n",
        "    def __init__(self, betas_path, embeds_path):\n",
        "        self.betas = torch.from_numpy(np.load(betas_path)).float().cuda()\n",
        "        self.embeds = torch.from_numpy(\n",
        "                np.squeeze(np.load(embeds_path))\n",
        "            ).float().cuda()\n",
        "\n",
        "    def __len__(self):\n",
        "        return len(self.betas)\n",
        "\n",
        "    def __getitem__(self, index):\n",
        "        return self.betas[index], self.embeds[index]\n",
        "\n",
        "\n",
        "class CustomDataLoader:\n",
        "    def __init__(self, dataset, batch_size):\n",
        "        self.data_loader = DataLoader(dataset, batch_size=batch_size, shuffle=True)\n",
        "\n",
        "    def __iter__(self):\n",
        "        return iter(self.data_loader)\n",
        "\n",
        "    def __len__(self):\n",
        "        return len(self.data_loader)\n",
        "\n",
        "batch_size = 64\n",
        "\n",
        "train_dataset = CustomDataset(train_betas_path,\n",
        "                              train_caps_embed_path,)\n",
        "train_data_loader = CustomDataLoader(train_dataset, batch_size)\n",
        "\n",
        "test_dataset = CustomDataset(test_betas_path,\n",
        "                             test_caps_embed_path,)\n",
        "test_data_loader = CustomDataLoader(test_dataset, batch_size)\n",
        "\n",
        "val_dataset = CustomDataset(val_betas_path,\n",
        "                            val_caps_embed_path,)\n",
        "val_data_loader = CustomDataLoader(val_dataset, batch_size)\n",
        "\n",
        "for beta, embed in train_data_loader:\n",
        "    print(f\"beta      {beta.shape}\")\n",
        "    print(f\"embed     {embed.shape}\")\n",
        "    break"
      ]
    },
    {
      "cell_type": "code",
      "execution_count": null,
      "metadata": {
        "colab": {
          "base_uri": "https://localhost:8080/"
        },
        "id": "OfUdsL7vZ3oV",
        "outputId": "0eb2c1b7-d882-483d-a682-ac758e7b7f5c"
      },
      "outputs": [
        {
          "output_type": "stream",
          "name": "stdout",
          "text": [
            "input_dim: 15724\n",
            "output_dim: 1280\n"
          ]
        }
      ],
      "source": [
        "input_dim = 15724\n",
        "print('input_dim:', input_dim)\n",
        "ouput_dim = 1280\n",
        "print('output_dim:', ouput_dim)"
      ]
    },
    {
      "cell_type": "code",
      "execution_count": null,
      "metadata": {
        "id": "BWxSG8pAZ3oV"
      },
      "outputs": [],
      "source": [
        "class RegressionModel(nn.Module):\n",
        "    def __init__(self, input_channels, output_channels):\n",
        "        super().__init__()\n",
        "        self.linear_regression = nn.Linear(in_features=input_channels,\n",
        "                               out_features=output_channels)\n",
        "        self.layer0 = 2**10 * 12\n",
        "        self.layer1 = 2**10 * 10\n",
        "        self.layer2 = 2**10 * 5\n",
        "        self.layer3 = 2**10 * 2\n",
        "\n",
        "        self.mlp = nn.Sequential(\n",
        "            nn.Linear(in_features=input_channels,\n",
        "                      out_features=self.layer0),\n",
        "            nn.LeakyReLU(0.05, inplace=True),\n",
        "            nn.Linear(in_features=self.layer0,\n",
        "                      out_features=self.layer1),\n",
        "            nn.LeakyReLU(0.05, inplace=True),\n",
        "            nn.Linear(in_features=self.layer1,\n",
        "                      out_features=self.layer2),\n",
        "            nn.LeakyReLU(0.05, inplace=True),\n",
        "            nn.Linear(in_features=self.layer2,\n",
        "                      out_features=self.layer3),\n",
        "            nn.LeakyReLU(0.05, inplace=True),\n",
        "            nn.Linear(in_features=self.layer3,\n",
        "                      out_features=output_channels),\n",
        "        )\n",
        "\n",
        "\n",
        "    def forward(self, x):\n",
        "        return self.mlp(x)\n",
        "\n",
        "model_embed = RegressionModel(input_dim, ouput_dim).cuda()"
      ]
    },
    {
      "cell_type": "code",
      "execution_count": null,
      "metadata": {
        "id": "3xlbdd7HZ3oW"
      },
      "outputs": [],
      "source": [
        "import torch.nn.functional as F\n",
        "\n",
        "class CosineSimilarityLoss(nn.Module):\n",
        "    def __init__(self):\n",
        "        super(CosineSimilarityLoss, self).__init__()\n",
        "\n",
        "    def forward(self, y_true, y_pred):\n",
        "        cosine_sim = F.cosine_similarity(y_true, y_pred, dim=1)\n",
        "        loss = 1 - cosine_sim.mean()\n",
        "        return loss"
      ]
    },
    {
      "cell_type": "code",
      "execution_count": null,
      "metadata": {
        "id": "MxTf1Mw_Z3oW"
      },
      "outputs": [],
      "source": [
        "cos_loss = CosineSimilarityLoss()\n",
        "mse_loss = nn.MSELoss(reduction='mean')\n",
        "optim_embed = torch.optim.Adam(\n",
        "    params=model_embed.parameters(), lr=0.0001, weight_decay=0.01)"
      ]
    },
    {
      "cell_type": "code",
      "execution_count": null,
      "metadata": {
        "id": "ViP6DE3sZ3oW"
      },
      "outputs": [],
      "source": [
        "run_name = 'mlp_one_model' #+ datetime.now().strftime(\"%Y-%m-%d_%H:%M\")\n",
        "writer = SummaryWriter(os.path.join(data_path, 'runs', run_name))"
      ]
    },
    {
      "cell_type": "code",
      "execution_count": null,
      "metadata": {
        "colab": {
          "base_uri": "https://localhost:8080/"
        },
        "id": "Jl_oOyF6Z3oW",
        "outputId": "86018c91-5ad5-4961-e5a9-8c8341e67bfc"
      },
      "outputs": [
        {
          "output_type": "stream",
          "name": "stderr",
          "text": [
            "\r  0%|          | 0/100 [00:00<?, ?it/s]"
          ]
        },
        {
          "output_type": "stream",
          "name": "stdout",
          "text": [
            "0.8785734251141548\n",
            "Model saved with loss: 0.8785734251141548\n"
          ]
        },
        {
          "output_type": "stream",
          "name": "stderr",
          "text": [
            "\r  1%|          | 1/100 [00:30<50:34, 30.65s/it]"
          ]
        },
        {
          "output_type": "stream",
          "name": "stdout",
          "text": [
            "0.876572422683239\n",
            "Model saved with loss: 0.876572422683239\n"
          ]
        },
        {
          "output_type": "stream",
          "name": "stderr",
          "text": [
            "\r  2%|▏         | 2/100 [01:05<54:11, 33.18s/it]"
          ]
        },
        {
          "output_type": "stream",
          "name": "stdout",
          "text": [
            "0.8675332069396973\n",
            "Model saved with loss: 0.8675332069396973\n"
          ]
        },
        {
          "output_type": "stream",
          "name": "stderr",
          "text": [
            "\r  3%|▎         | 3/100 [01:45<58:23, 36.11s/it]"
          ]
        },
        {
          "output_type": "stream",
          "name": "stdout",
          "text": [
            "0.8550610914826393\n",
            "Model saved with loss: 0.8550610914826393\n"
          ]
        },
        {
          "output_type": "stream",
          "name": "stderr",
          "text": [
            "\r  4%|▍         | 4/100 [02:21<57:53, 36.18s/it]"
          ]
        },
        {
          "output_type": "stream",
          "name": "stdout",
          "text": [
            "0.844649150967598\n",
            "Model saved with loss: 0.844649150967598\n"
          ]
        },
        {
          "output_type": "stream",
          "name": "stderr",
          "text": [
            "\r  5%|▌         | 5/100 [02:57<57:04, 36.04s/it]"
          ]
        },
        {
          "output_type": "stream",
          "name": "stdout",
          "text": [
            "0.8373319283127785\n",
            "Model saved with loss: 0.8373319283127785\n"
          ]
        },
        {
          "output_type": "stream",
          "name": "stderr",
          "text": [
            "\r  6%|▌         | 6/100 [03:37<58:48, 37.54s/it]"
          ]
        },
        {
          "output_type": "stream",
          "name": "stdout",
          "text": [
            "0.8264186605811119\n",
            "Model saved with loss: 0.8264186605811119\n"
          ]
        },
        {
          "output_type": "stream",
          "name": "stderr",
          "text": [
            "\r  7%|▋         | 7/100 [04:14<57:57, 37.40s/it]"
          ]
        },
        {
          "output_type": "stream",
          "name": "stdout",
          "text": [
            "0.818101592361927\n",
            "Model saved with loss: 0.818101592361927\n"
          ]
        },
        {
          "output_type": "stream",
          "name": "stderr",
          "text": [
            "\r  8%|▊         | 8/100 [04:49<56:12, 36.66s/it]"
          ]
        },
        {
          "output_type": "stream",
          "name": "stdout",
          "text": [
            "0.8096858486533165\n",
            "Model saved with loss: 0.8096858486533165\n"
          ]
        },
        {
          "output_type": "stream",
          "name": "stderr",
          "text": [
            "\r  9%|▉         | 9/100 [05:30<57:14, 37.74s/it]"
          ]
        },
        {
          "output_type": "stream",
          "name": "stdout",
          "text": [
            "0.7997043430805206\n",
            "Model saved with loss: 0.7997043430805206\n"
          ]
        },
        {
          "output_type": "stream",
          "name": "stderr",
          "text": [
            "\r 10%|█         | 10/100 [06:07<56:16, 37.52s/it]"
          ]
        },
        {
          "output_type": "stream",
          "name": "stdout",
          "text": [
            "0.7914549931883812\n",
            "Model saved with loss: 0.7914549931883812\n"
          ]
        },
        {
          "output_type": "stream",
          "name": "stderr",
          "text": [
            "\r 11%|█         | 11/100 [06:43<55:19, 37.29s/it]"
          ]
        },
        {
          "output_type": "stream",
          "name": "stdout",
          "text": [
            "0.7891509383916855\n",
            "Model saved with loss: 0.7891509383916855\n"
          ]
        },
        {
          "output_type": "stream",
          "name": "stderr",
          "text": [
            "\r 12%|█▏        | 12/100 [08:20<1:21:01, 55.25s/it]"
          ]
        },
        {
          "output_type": "stream",
          "name": "stdout",
          "text": [
            "0.7813941314816475\n",
            "Model saved with loss: 0.7813941314816475\n"
          ]
        },
        {
          "output_type": "stream",
          "name": "stderr",
          "text": [
            "\r 13%|█▎        | 13/100 [08:57<1:12:06, 49.73s/it]"
          ]
        },
        {
          "output_type": "stream",
          "name": "stdout",
          "text": [
            "0.7719646021723747\n",
            "Model saved with loss: 0.7719646021723747\n"
          ]
        },
        {
          "output_type": "stream",
          "name": "stderr",
          "text": [
            "\r 14%|█▍        | 14/100 [09:33<1:05:31, 45.72s/it]"
          ]
        },
        {
          "output_type": "stream",
          "name": "stdout",
          "text": [
            "0.7704311236739159\n",
            "Model saved with loss: 0.7704311236739159\n"
          ]
        },
        {
          "output_type": "stream",
          "name": "stderr",
          "text": [
            "\r 15%|█▌        | 15/100 [10:14<1:02:43, 44.28s/it]"
          ]
        },
        {
          "output_type": "stream",
          "name": "stdout",
          "text": [
            "0.7674928158521652\n",
            "Model saved with loss: 0.7674928158521652\n"
          ]
        },
        {
          "output_type": "stream",
          "name": "stderr",
          "text": [
            " 17%|█▋        | 17/100 [11:23<52:56, 38.28s/it]  "
          ]
        },
        {
          "output_type": "stream",
          "name": "stdout",
          "text": [
            "0.7720538899302483\n",
            "0.7553433999419212\n",
            "Model saved with loss: 0.7553433999419212\n"
          ]
        },
        {
          "output_type": "stream",
          "name": "stderr",
          "text": [
            " 19%|█▉        | 19/100 [12:18<43:54, 32.53s/it]"
          ]
        },
        {
          "output_type": "stream",
          "name": "stdout",
          "text": [
            "0.757995568215847\n",
            "0.7498874366283417\n",
            "Model saved with loss: 0.7498874366283417\n"
          ]
        },
        {
          "output_type": "stream",
          "name": "stderr",
          "text": [
            " 21%|██        | 21/100 [13:55<50:36, 38.44s/it]"
          ]
        },
        {
          "output_type": "stream",
          "name": "stdout",
          "text": [
            "0.7509173527359962\n",
            "0.749005064368248\n",
            "Model saved with loss: 0.749005064368248\n"
          ]
        },
        {
          "output_type": "stream",
          "name": "stderr",
          "text": [
            "\r 22%|██▏       | 22/100 [14:29<48:07, 37.01s/it]"
          ]
        },
        {
          "output_type": "stream",
          "name": "stdout",
          "text": [
            "0.7459498271346092\n",
            "Model saved with loss: 0.7459498271346092\n"
          ]
        },
        {
          "output_type": "stream",
          "name": "stderr",
          "text": [
            "\r 23%|██▎       | 23/100 [15:07<47:49, 37.27s/it]"
          ]
        },
        {
          "output_type": "stream",
          "name": "stdout",
          "text": [
            "0.7391054108738899\n",
            "Model saved with loss: 0.7391054108738899\n"
          ]
        },
        {
          "output_type": "stream",
          "name": "stderr",
          "text": [
            " 25%|██▌       | 25/100 [16:35<48:34, 38.86s/it]"
          ]
        },
        {
          "output_type": "stream",
          "name": "stdout",
          "text": [
            "0.7418396174907684\n",
            "0.7330734878778458\n",
            "Model saved with loss: 0.7330734878778458\n"
          ]
        },
        {
          "output_type": "stream",
          "name": "stderr",
          "text": [
            " 27%|██▋       | 27/100 [17:37<41:43, 34.29s/it]"
          ]
        },
        {
          "output_type": "stream",
          "name": "stdout",
          "text": [
            "0.7369327545166016\n"
          ]
        },
        {
          "output_type": "stream",
          "name": "stderr",
          "text": [
            "\r 28%|██▊       | 28/100 [18:01<37:21, 31.13s/it]"
          ]
        },
        {
          "output_type": "stream",
          "name": "stdout",
          "text": [
            "0.7409880384802818\n",
            "0.7227569371461868\n",
            "Model saved with loss: 0.7227569371461868\n"
          ]
        },
        {
          "output_type": "stream",
          "name": "stderr",
          "text": [
            " 30%|███       | 30/100 [19:11<37:27, 32.11s/it]"
          ]
        },
        {
          "output_type": "stream",
          "name": "stdout",
          "text": [
            "0.7371014505624771\n"
          ]
        },
        {
          "output_type": "stream",
          "name": "stderr",
          "text": [
            "\r 31%|███       | 31/100 [19:35<34:03, 29.61s/it]"
          ]
        },
        {
          "output_type": "stream",
          "name": "stdout",
          "text": [
            "0.7230398431420326\n",
            "0.7161630317568779\n",
            "Model saved with loss: 0.7161630317568779\n"
          ]
        },
        {
          "output_type": "stream",
          "name": "stderr",
          "text": [
            " 33%|███▎      | 33/100 [21:12<41:23, 37.07s/it]"
          ]
        },
        {
          "output_type": "stream",
          "name": "stdout",
          "text": [
            "0.7173234894871712\n",
            "0.715434268116951\n",
            "Model saved with loss: 0.715434268116951\n"
          ]
        },
        {
          "output_type": "stream",
          "name": "stderr",
          "text": [
            "\r 34%|███▍      | 34/100 [22:23<51:49, 47.11s/it]"
          ]
        },
        {
          "output_type": "stream",
          "name": "stdout",
          "text": [
            "0.7149079069495201\n",
            "Model saved with loss: 0.7149079069495201\n"
          ]
        },
        {
          "output_type": "stream",
          "name": "stderr",
          "text": [
            "\r 35%|███▌      | 35/100 [22:58<47:01, 43.40s/it]"
          ]
        },
        {
          "output_type": "stream",
          "name": "stdout",
          "text": [
            "0.7056737467646599\n",
            "Model saved with loss: 0.7056737467646599\n"
          ]
        },
        {
          "output_type": "stream",
          "name": "stderr",
          "text": [
            "\r 36%|███▌      | 36/100 [24:10<55:25, 51.95s/it]"
          ]
        },
        {
          "output_type": "stream",
          "name": "stdout",
          "text": [
            "0.6992059275507927\n",
            "Model saved with loss: 0.6992059275507927\n"
          ]
        },
        {
          "output_type": "stream",
          "name": "stderr",
          "text": [
            " 38%|███▊      | 38/100 [25:11<41:50, 40.49s/it]"
          ]
        },
        {
          "output_type": "stream",
          "name": "stdout",
          "text": [
            "0.705453410744667\n",
            "0.6928930953145027\n",
            "Model saved with loss: 0.6928930953145027\n"
          ]
        },
        {
          "output_type": "stream",
          "name": "stderr",
          "text": [
            " 40%|████      | 40/100 [26:17<35:47, 35.78s/it]"
          ]
        },
        {
          "output_type": "stream",
          "name": "stdout",
          "text": [
            "0.7108314633369446\n"
          ]
        },
        {
          "output_type": "stream",
          "name": "stderr",
          "text": [
            "\r 41%|████      | 41/100 [26:41<31:39, 32.19s/it]"
          ]
        },
        {
          "output_type": "stream",
          "name": "stdout",
          "text": [
            "0.7008620873093605\n",
            "0.6857885792851448\n",
            "Model saved with loss: 0.6857885792851448\n"
          ]
        },
        {
          "output_type": "stream",
          "name": "stderr",
          "text": [
            " 43%|████▎     | 43/100 [27:41<29:05, 30.62s/it]"
          ]
        },
        {
          "output_type": "stream",
          "name": "stdout",
          "text": [
            "0.70700853317976\n"
          ]
        },
        {
          "output_type": "stream",
          "name": "stderr",
          "text": [
            "\r 44%|████▍     | 44/100 [28:05<26:40, 28.57s/it]"
          ]
        },
        {
          "output_type": "stream",
          "name": "stdout",
          "text": [
            "0.6996202766895294\n"
          ]
        },
        {
          "output_type": "stream",
          "name": "stderr",
          "text": [
            "\r 45%|████▌     | 45/100 [28:29<24:50, 27.10s/it]"
          ]
        },
        {
          "output_type": "stream",
          "name": "stdout",
          "text": [
            "0.6954951882362366\n"
          ]
        },
        {
          "output_type": "stream",
          "name": "stderr",
          "text": [
            "\r 46%|████▌     | 46/100 [28:52<23:26, 26.05s/it]"
          ]
        },
        {
          "output_type": "stream",
          "name": "stdout",
          "text": [
            "0.7056652903556824\n",
            "0.6810555681586266\n",
            "Model saved with loss: 0.6810555681586266\n"
          ]
        },
        {
          "output_type": "stream",
          "name": "stderr",
          "text": [
            " 48%|████▊     | 48/100 [29:53<23:52, 27.55s/it]"
          ]
        },
        {
          "output_type": "stream",
          "name": "stdout",
          "text": [
            "0.68768011033535\n"
          ]
        },
        {
          "output_type": "stream",
          "name": "stderr",
          "text": [
            "\r 49%|████▉     | 49/100 [30:16<22:27, 26.41s/it]"
          ]
        },
        {
          "output_type": "stream",
          "name": "stdout",
          "text": [
            "0.6869299113750458\n"
          ]
        },
        {
          "output_type": "stream",
          "name": "stderr",
          "text": [
            "\r 50%|█████     | 50/100 [30:40<21:19, 25.58s/it]"
          ]
        },
        {
          "output_type": "stream",
          "name": "stdout",
          "text": [
            "0.6919002532958984\n"
          ]
        },
        {
          "output_type": "stream",
          "name": "stderr",
          "text": [
            "\r 51%|█████     | 51/100 [31:04<20:25, 25.00s/it]"
          ]
        },
        {
          "output_type": "stream",
          "name": "stdout",
          "text": [
            "0.6943465545773506\n"
          ]
        },
        {
          "output_type": "stream",
          "name": "stderr",
          "text": [
            "\r 52%|█████▏    | 52/100 [31:27<19:40, 24.59s/it]"
          ]
        },
        {
          "output_type": "stream",
          "name": "stdout",
          "text": [
            "0.6835731193423271\n"
          ]
        },
        {
          "output_type": "stream",
          "name": "stderr",
          "text": [
            "\r 53%|█████▎    | 53/100 [31:51<19:02, 24.32s/it]"
          ]
        },
        {
          "output_type": "stream",
          "name": "stdout",
          "text": [
            "0.6868076547980309\n"
          ]
        },
        {
          "output_type": "stream",
          "name": "stderr",
          "text": [
            "\r 54%|█████▍    | 54/100 [32:15<18:29, 24.12s/it]"
          ]
        },
        {
          "output_type": "stream",
          "name": "stdout",
          "text": [
            "0.6974243894219398\n"
          ]
        },
        {
          "output_type": "stream",
          "name": "stderr",
          "text": [
            "\r 55%|█████▌    | 55/100 [32:38<17:58, 23.98s/it]"
          ]
        },
        {
          "output_type": "stream",
          "name": "stdout",
          "text": [
            "0.7198136895895004\n"
          ]
        },
        {
          "output_type": "stream",
          "name": "stderr",
          "text": [
            "\r 56%|█████▌    | 56/100 [33:02<17:30, 23.88s/it]"
          ]
        },
        {
          "output_type": "stream",
          "name": "stdout",
          "text": [
            "0.712311677634716\n"
          ]
        },
        {
          "output_type": "stream",
          "name": "stderr",
          "text": [
            "\r 57%|█████▋    | 57/100 [33:25<17:03, 23.81s/it]"
          ]
        },
        {
          "output_type": "stream",
          "name": "stdout",
          "text": [
            "0.690217636525631\n",
            "0.6724880710244179\n",
            "Model saved with loss: 0.6724880710244179\n"
          ]
        },
        {
          "output_type": "stream",
          "name": "stderr",
          "text": [
            " 59%|█████▉    | 59/100 [34:28<18:22, 26.89s/it]"
          ]
        },
        {
          "output_type": "stream",
          "name": "stdout",
          "text": [
            "0.6788283437490463\n"
          ]
        },
        {
          "output_type": "stream",
          "name": "stderr",
          "text": [
            "\r 60%|██████    | 60/100 [34:52<17:18, 25.95s/it]"
          ]
        },
        {
          "output_type": "stream",
          "name": "stdout",
          "text": [
            "0.6851162239909172\n",
            "0.6706938669085503\n",
            "Model saved with loss: 0.6706938669085503\n"
          ]
        },
        {
          "output_type": "stream",
          "name": "stderr",
          "text": [
            " 62%|██████▏   | 62/100 [35:53<17:34, 27.75s/it]"
          ]
        },
        {
          "output_type": "stream",
          "name": "stdout",
          "text": [
            "0.6796326190233231\n"
          ]
        },
        {
          "output_type": "stream",
          "name": "stderr",
          "text": [
            "\r 63%|██████▎   | 63/100 [36:17<16:23, 26.57s/it]"
          ]
        },
        {
          "output_type": "stream",
          "name": "stdout",
          "text": [
            "0.6855711415410042\n"
          ]
        },
        {
          "output_type": "stream",
          "name": "stderr",
          "text": [
            "\r 64%|██████▍   | 64/100 [36:41<15:25, 25.70s/it]"
          ]
        },
        {
          "output_type": "stream",
          "name": "stdout",
          "text": [
            "0.677443690598011\n"
          ]
        },
        {
          "output_type": "stream",
          "name": "stderr",
          "text": [
            "\r 65%|██████▌   | 65/100 [37:04<14:37, 25.07s/it]"
          ]
        },
        {
          "output_type": "stream",
          "name": "stdout",
          "text": [
            "0.6773523688316345\n"
          ]
        },
        {
          "output_type": "stream",
          "name": "stderr",
          "text": [
            "\r 66%|██████▌   | 66/100 [37:28<13:58, 24.65s/it]"
          ]
        },
        {
          "output_type": "stream",
          "name": "stdout",
          "text": [
            "0.6795916333794594\n"
          ]
        },
        {
          "output_type": "stream",
          "name": "stderr",
          "text": [
            "\r 67%|██████▋   | 67/100 [37:51<13:23, 24.36s/it]"
          ]
        },
        {
          "output_type": "stream",
          "name": "stdout",
          "text": [
            "0.6877826526761055\n"
          ]
        },
        {
          "output_type": "stream",
          "name": "stderr",
          "text": [
            "\r 68%|██████▊   | 68/100 [38:15<12:52, 24.14s/it]"
          ]
        },
        {
          "output_type": "stream",
          "name": "stdout",
          "text": [
            "0.6750834509730339\n"
          ]
        },
        {
          "output_type": "stream",
          "name": "stderr",
          "text": [
            "\r 69%|██████▉   | 69/100 [38:39<12:23, 24.00s/it]"
          ]
        },
        {
          "output_type": "stream",
          "name": "stdout",
          "text": [
            "0.6873651370406151\n"
          ]
        },
        {
          "output_type": "stream",
          "name": "stderr",
          "text": [
            "\r 70%|███████   | 70/100 [39:02<11:56, 23.89s/it]"
          ]
        },
        {
          "output_type": "stream",
          "name": "stdout",
          "text": [
            "0.676732063293457\n"
          ]
        },
        {
          "output_type": "stream",
          "name": "stderr",
          "text": [
            "\r 71%|███████   | 71/100 [39:26<11:30, 23.82s/it]"
          ]
        },
        {
          "output_type": "stream",
          "name": "stdout",
          "text": [
            "0.6893286034464836\n"
          ]
        },
        {
          "output_type": "stream",
          "name": "stderr",
          "text": [
            "\r 72%|███████▏  | 72/100 [39:50<11:05, 23.77s/it]"
          ]
        },
        {
          "output_type": "stream",
          "name": "stdout",
          "text": [
            "0.6958615034818649\n"
          ]
        },
        {
          "output_type": "stream",
          "name": "stderr",
          "text": [
            "\r 73%|███████▎  | 73/100 [40:13<10:40, 23.73s/it]"
          ]
        },
        {
          "output_type": "stream",
          "name": "stdout",
          "text": [
            "0.67887382209301\n"
          ]
        },
        {
          "output_type": "stream",
          "name": "stderr",
          "text": [
            "\r 74%|███████▍  | 74/100 [40:37<10:16, 23.70s/it]"
          ]
        },
        {
          "output_type": "stream",
          "name": "stdout",
          "text": [
            "0.6748924478888512\n"
          ]
        },
        {
          "output_type": "stream",
          "name": "stderr",
          "text": [
            "\r 75%|███████▌  | 75/100 [41:01<09:52, 23.69s/it]"
          ]
        },
        {
          "output_type": "stream",
          "name": "stdout",
          "text": [
            "0.688378319144249\n"
          ]
        },
        {
          "output_type": "stream",
          "name": "stderr",
          "text": [
            "\r 76%|███████▌  | 76/100 [41:24<09:28, 23.68s/it]"
          ]
        },
        {
          "output_type": "stream",
          "name": "stdout",
          "text": [
            "0.6794803217053413\n"
          ]
        },
        {
          "output_type": "stream",
          "name": "stderr",
          "text": [
            "\r 77%|███████▋  | 77/100 [41:48<09:04, 23.68s/it]"
          ]
        },
        {
          "output_type": "stream",
          "name": "stdout",
          "text": [
            "0.6837047412991524\n"
          ]
        },
        {
          "output_type": "stream",
          "name": "stderr",
          "text": [
            "\r 78%|███████▊  | 78/100 [42:12<08:40, 23.68s/it]"
          ]
        },
        {
          "output_type": "stream",
          "name": "stdout",
          "text": [
            "0.6854564622044563\n"
          ]
        },
        {
          "output_type": "stream",
          "name": "stderr",
          "text": [
            "\r 79%|███████▉  | 79/100 [42:35<08:16, 23.66s/it]"
          ]
        },
        {
          "output_type": "stream",
          "name": "stdout",
          "text": [
            "0.6810959056019783\n"
          ]
        },
        {
          "output_type": "stream",
          "name": "stderr",
          "text": [
            "\r 80%|████████  | 80/100 [42:59<07:53, 23.65s/it]"
          ]
        },
        {
          "output_type": "stream",
          "name": "stdout",
          "text": [
            "0.6790306270122528\n",
            "0.6686645597219467\n",
            "Model saved with loss: 0.6686645597219467\n"
          ]
        },
        {
          "output_type": "stream",
          "name": "stderr",
          "text": [
            " 82%|████████▏ | 82/100 [44:00<07:56, 26.46s/it]"
          ]
        },
        {
          "output_type": "stream",
          "name": "stdout",
          "text": [
            "0.6754642724990845\n"
          ]
        },
        {
          "output_type": "stream",
          "name": "stderr",
          "text": [
            "\r 83%|████████▎ | 83/100 [44:23<07:16, 25.65s/it]"
          ]
        },
        {
          "output_type": "stream",
          "name": "stdout",
          "text": [
            "0.669106587767601\n"
          ]
        },
        {
          "output_type": "stream",
          "name": "stderr",
          "text": [
            "\r 84%|████████▍ | 84/100 [44:47<06:40, 25.05s/it]"
          ]
        },
        {
          "output_type": "stream",
          "name": "stdout",
          "text": [
            "0.6718477234244347\n"
          ]
        },
        {
          "output_type": "stream",
          "name": "stderr",
          "text": [
            "\r 85%|████████▌ | 85/100 [45:11<06:09, 24.61s/it]"
          ]
        },
        {
          "output_type": "stream",
          "name": "stdout",
          "text": [
            "0.6808960288763046\n",
            "0.6680191978812218\n",
            "Model saved with loss: 0.6680191978812218\n"
          ]
        },
        {
          "output_type": "stream",
          "name": "stderr",
          "text": [
            " 87%|████████▋ | 87/100 [46:07<05:38, 26.08s/it]"
          ]
        },
        {
          "output_type": "stream",
          "name": "stdout",
          "text": [
            "0.6976626291871071\n"
          ]
        },
        {
          "output_type": "stream",
          "name": "stderr",
          "text": [
            "\r 88%|████████▊ | 88/100 [46:31<05:04, 25.37s/it]"
          ]
        },
        {
          "output_type": "stream",
          "name": "stdout",
          "text": [
            "0.8028391003608704\n"
          ]
        },
        {
          "output_type": "stream",
          "name": "stderr",
          "text": [
            "\r 89%|████████▉ | 89/100 [46:55<04:33, 24.85s/it]"
          ]
        },
        {
          "output_type": "stream",
          "name": "stdout",
          "text": [
            "0.6813753470778465\n",
            "0.6651092022657394\n",
            "Model saved with loss: 0.6651092022657394\n"
          ]
        },
        {
          "output_type": "stream",
          "name": "stderr",
          "text": [
            " 91%|█████████ | 91/100 [47:50<03:54, 26.01s/it]"
          ]
        },
        {
          "output_type": "stream",
          "name": "stdout",
          "text": [
            "0.668582871556282\n"
          ]
        },
        {
          "output_type": "stream",
          "name": "stderr",
          "text": [
            "\r 92%|█████████▏| 92/100 [48:14<03:22, 25.32s/it]"
          ]
        },
        {
          "output_type": "stream",
          "name": "stdout",
          "text": [
            "0.6740228980779648\n"
          ]
        },
        {
          "output_type": "stream",
          "name": "stderr",
          "text": [
            "\r 93%|█████████▎| 93/100 [48:38<02:53, 24.82s/it]"
          ]
        },
        {
          "output_type": "stream",
          "name": "stdout",
          "text": [
            "0.6878287270665169\n"
          ]
        },
        {
          "output_type": "stream",
          "name": "stderr",
          "text": [
            "\r 94%|█████████▍| 94/100 [49:01<02:26, 24.47s/it]"
          ]
        },
        {
          "output_type": "stream",
          "name": "stdout",
          "text": [
            "0.6821145862340927\n"
          ]
        },
        {
          "output_type": "stream",
          "name": "stderr",
          "text": [
            "\r 95%|█████████▌| 95/100 [49:25<02:01, 24.23s/it]"
          ]
        },
        {
          "output_type": "stream",
          "name": "stdout",
          "text": [
            "0.6922249346971512\n"
          ]
        },
        {
          "output_type": "stream",
          "name": "stderr",
          "text": [
            "\r 96%|█████████▌| 96/100 [49:49<01:36, 24.05s/it]"
          ]
        },
        {
          "output_type": "stream",
          "name": "stdout",
          "text": [
            "0.6678513288497925\n"
          ]
        },
        {
          "output_type": "stream",
          "name": "stderr",
          "text": [
            "\r 97%|█████████▋| 97/100 [50:12<01:11, 23.93s/it]"
          ]
        },
        {
          "output_type": "stream",
          "name": "stdout",
          "text": [
            "0.6840250715613365\n"
          ]
        },
        {
          "output_type": "stream",
          "name": "stderr",
          "text": [
            "\r 98%|█████████▊| 98/100 [50:36<00:47, 23.84s/it]"
          ]
        },
        {
          "output_type": "stream",
          "name": "stdout",
          "text": [
            "0.6745445132255554\n"
          ]
        },
        {
          "output_type": "stream",
          "name": "stderr",
          "text": [
            "\r 99%|█████████▉| 99/100 [50:59<00:23, 23.78s/it]"
          ]
        },
        {
          "output_type": "stream",
          "name": "stdout",
          "text": [
            "0.6929002478718758\n"
          ]
        },
        {
          "output_type": "stream",
          "name": "stderr",
          "text": [
            "100%|██████████| 100/100 [51:23<00:00, 30.84s/it]"
          ]
        },
        {
          "output_type": "stream",
          "name": "stdout",
          "text": [
            "0.6764207854866982\n"
          ]
        },
        {
          "output_type": "stream",
          "name": "stderr",
          "text": [
            "\n"
          ]
        }
      ],
      "source": [
        "import torch\n",
        "from tqdm import tqdm\n",
        "\n",
        "num_epochs = 100\n",
        "iter_index = 0\n",
        "min_test_loss = 1e15\n",
        "best_model_path = os.path.join(data_path, f'../models/{run_name}.pth')\n",
        "test_iter_index = 0\n",
        "\n",
        "for epoch in tqdm(range(num_epochs)):\n",
        "    model_embed.train()\n",
        "    for betas, embeds in train_data_loader:\n",
        "        iter_index += 1\n",
        "        pred_embeds = model_embed(betas)\n",
        "\n",
        "        loss_embed = mse_loss(pred_embeds, embeds)\n",
        "        optim_embed.zero_grad()\n",
        "        loss_embed.backward()\n",
        "        optim_embed.step()\n",
        "\n",
        "        writer.add_scalars('train/losses', {\n",
        "            'embed': loss_embed.item(),\n",
        "        }, iter_index)\n",
        "\n",
        "    test_loss = 0\n",
        "    model_embed.eval()\n",
        "    with torch.inference_mode():\n",
        "        n_batches = 0\n",
        "        for betas, embeds in val_data_loader:\n",
        "            test_iter_index += 1\n",
        "            pred_embeds = model_embed(betas)\n",
        "\n",
        "            loss_embed = mse_loss(pred_embeds, embeds)\n",
        "\n",
        "            cos_embed = cos_loss(pred_embeds, embeds)\n",
        "\n",
        "            writer.add_scalars('val/losses', {\n",
        "                'embed': loss_embed.item(),\n",
        "            }, test_iter_index)\n",
        "\n",
        "            writer.add_scalars('val/cos_sim', {\n",
        "                'cos_embed': cos_embed.item(),\n",
        "            }, test_iter_index)\n",
        "\n",
        "            n_batches += 1\n",
        "            test_loss += loss_embed.item()\n",
        "\n",
        "    test_loss /= n_batches\n",
        "    print(test_loss)\n",
        "    if test_loss < min_test_loss:\n",
        "        min_test_loss = test_loss\n",
        "        print(f'Model saved with loss: {test_loss}')\n",
        "        torch.save({\n",
        "            'model_embed_state_dict': model_embed.state_dict(),\n",
        "            'epoch': epoch,\n",
        "            'min_test_loss': min_test_loss,\n",
        "        }, best_model_path)"
      ]
    },
    {
      "cell_type": "code",
      "execution_count": null,
      "metadata": {
        "id": "v-htpLwWZ3oX"
      },
      "outputs": [],
      "source": [
        "with torch.inference_mode():\n",
        "    n_batches = 0\n",
        "    for betas, embeds in test_data_loader:\n",
        "        test_iter_index += 1\n",
        "        pred_embeds = model_embed(betas)\n",
        "\n",
        "        loss_embed = mse_loss(pred_embeds, embeds)\n",
        "\n",
        "        cos_embed = cos_loss(pred_embeds, embeds)\n",
        "\n",
        "        writer.add_scalars('test/losses', {\n",
        "            'embed': loss_embed.item(),\n",
        "        }, test_iter_index)\n",
        "\n",
        "        writer.add_scalars('test/cos_sim', {\n",
        "            'cos_embed': cos_embed.item(),\n",
        "        }, test_iter_index)\n",
        "\n",
        "        n_batches += 1\n",
        "        test_loss += loss_embed.item()"
      ]
    }
  ],
  "metadata": {
    "kernelspec": {
      "display_name": "Python 3",
      "name": "python3"
    },
    "language_info": {
      "codemirror_mode": {
        "name": "ipython",
        "version": 3
      },
      "file_extension": ".py",
      "mimetype": "text/x-python",
      "name": "python",
      "nbconvert_exporter": "python",
      "pygments_lexer": "ipython3",
      "version": "3.10.12"
    },
    "colab": {
      "provenance": [],
      "gpuType": "T4"
    },
    "accelerator": "GPU"
  },
  "nbformat": 4,
  "nbformat_minor": 0
}